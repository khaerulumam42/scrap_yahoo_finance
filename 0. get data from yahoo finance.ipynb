{
 "cells": [
  {
   "cell_type": "code",
   "execution_count": 75,
   "metadata": {},
   "outputs": [],
   "source": [
    "import pandas as pd\n",
    "import requests\n",
    "from bs4 import BeautifulSoup as bs\n",
    "import random\n",
    "import json\n",
    "import io\n",
    "import os\n",
    "from tqdm.notebook import tqdm\n",
    "import urllib3\n",
    "urllib3.disable_warnings(urllib3.exceptions.InsecureRequestWarning)"
   ]
  },
  {
   "cell_type": "code",
   "execution_count": 76,
   "metadata": {},
   "outputs": [],
   "source": [
    "with open(\"rotater_config.json\", \"r\") as f:\n",
    "    config = json.load(f)\n",
    "\n",
    "def rotater():\n",
    "    # rotate configuration\n",
    "    user_agent = random.choice(config[\"user_agents\"])\n",
    "    proxy = config[\"proxy\"]\n",
    "    delay = random.uniform(0, 1)\n",
    "    \n",
    "    headers = {'User-Agent': user_agent}\n",
    "    proxies={\"http\":proxy, \"https\":proxy}\n",
    "    \n",
    "    return headers, proxies, delay\n",
    "\n",
    "def get_bs_object(url, use_proxy=True, parser='html.parser'):\n",
    "    if use_proxy:\n",
    "        headers, proxies, delay = rotater()\n",
    "\n",
    "        page = requests.get(url, headers=headers, proxies=proxies, verify=False)\n",
    "    else:\n",
    "        page = requests.get(url, verify=False)\n",
    "    soup = bs(page.text, parser)\n",
    "    return soup"
   ]
  },
  {
   "cell_type": "markdown",
   "metadata": {},
   "source": [
    "## get industries"
   ]
  },
  {
   "cell_type": "code",
   "execution_count": 77,
   "metadata": {},
   "outputs": [],
   "source": [
    "industries = \"Basic Materials, Communication Services, Consumer Cyclical, Consumer Defensive, Energy, Financial Services, Healthcare, Industrials, Real Estate, Technology, Utilities\".split(\", \")\n",
    "href_ind = \"https://finance.yahoo.com/sector/ms_basic_materials, https://finance.yahoo.com/sector/ms_communication_services, https://finance.yahoo.com/sector/ms_consumer_cyclical, https://finance.yahoo.com/sector/ms_consumer_defensive, https://finance.yahoo.com/sector/ms_energy, https://finance.yahoo.com/sector/ms_financial_services, https://finance.yahoo.com/sector/ms_healthcare, https://finance.yahoo.com/sector/ms_industrials, https://finance.yahoo.com/sector/ms_real_estate, https://finance.yahoo.com/sector/ms_technology, https://finance.yahoo.com/sector/ms_utilities\".split(\", \")\n",
    "industries_dict = dict(zip(industries, href_ind))"
   ]
  },
  {
   "cell_type": "code",
   "execution_count": 78,
   "metadata": {},
   "outputs": [
    {
     "data": {
      "text/plain": [
       "{'Basic Materials': 'https://finance.yahoo.com/sector/ms_basic_materials',\n",
       " 'Communication Services': 'https://finance.yahoo.com/sector/ms_communication_services',\n",
       " 'Consumer Cyclical': 'https://finance.yahoo.com/sector/ms_consumer_cyclical',\n",
       " 'Consumer Defensive': 'https://finance.yahoo.com/sector/ms_consumer_defensive',\n",
       " 'Energy': 'https://finance.yahoo.com/sector/ms_energy',\n",
       " 'Financial Services': 'https://finance.yahoo.com/sector/ms_financial_services',\n",
       " 'Healthcare': 'https://finance.yahoo.com/sector/ms_healthcare',\n",
       " 'Industrials': 'https://finance.yahoo.com/sector/ms_industrials',\n",
       " 'Real Estate': 'https://finance.yahoo.com/sector/ms_real_estate',\n",
       " 'Technology': 'https://finance.yahoo.com/sector/ms_technology',\n",
       " 'Utilities': 'https://finance.yahoo.com/sector/ms_utilities'}"
      ]
     },
     "execution_count": 78,
     "metadata": {},
     "output_type": "execute_result"
    }
   ],
   "source": [
    "industries_dict"
   ]
  },
  {
   "cell_type": "code",
   "execution_count": 82,
   "metadata": {},
   "outputs": [],
   "source": [
    "def get_symbol(industry_url, length=25):\n",
    "    headers, proxies, delay = rotater()\n",
    "    s_ind = requests.get(industry_url, proxies=proxies, verify=False).text\n",
    "    df_ind = pd.read_html(s_ind)[0]\n",
    "    return list(df_ind[\"Symbol\"].values[:length])\n",
    "\n",
    "def get_csv_file(industry, symbol):\n",
    "    headers, proxies, delay = rotater()\n",
    "    url = f\"https://finance.yahoo.com/quote/{symbol}/history?p={symbol}\"\n",
    "    s_sym = requests.get(url, proxies=proxies, verify=False).text\n",
    "    df_sym = pd.read_html(s_sym)[0]\n",
    "    \n",
    "    df_sym.to_csv(os.path.join(f\"results/{industry}_{symbol}.csv\".replace(\" \",\"_\").lower()), index=False)"
   ]
  },
  {
   "cell_type": "code",
   "execution_count": 83,
   "metadata": {},
   "outputs": [
    {
     "name": "stdout",
     "output_type": "stream",
     "text": [
      "process industry Basic Materials\n"
     ]
    },
    {
     "data": {
      "application/vnd.jupyter.widget-view+json": {
       "model_id": "9f645a133dcf4efa8095b3128db7103f",
       "version_major": 2,
       "version_minor": 0
      },
      "text/plain": [
       "HBox(children=(FloatProgress(value=0.0, max=25.0), HTML(value='')))"
      ]
     },
     "metadata": {},
     "output_type": "display_data"
    },
    {
     "name": "stdout",
     "output_type": "stream",
     "text": [
      "\n",
      "process industry Communication Services\n"
     ]
    },
    {
     "data": {
      "application/vnd.jupyter.widget-view+json": {
       "model_id": "33c9e521053540c68126155382ab6bf4",
       "version_major": 2,
       "version_minor": 0
      },
      "text/plain": [
       "HBox(children=(FloatProgress(value=0.0, max=25.0), HTML(value='')))"
      ]
     },
     "metadata": {},
     "output_type": "display_data"
    },
    {
     "name": "stdout",
     "output_type": "stream",
     "text": [
      "\n",
      "process industry Consumer Cyclical\n"
     ]
    },
    {
     "data": {
      "application/vnd.jupyter.widget-view+json": {
       "model_id": "b9c3b9a8bbca4dedaf852b4d4d0f5901",
       "version_major": 2,
       "version_minor": 0
      },
      "text/plain": [
       "HBox(children=(FloatProgress(value=0.0, max=25.0), HTML(value='')))"
      ]
     },
     "metadata": {},
     "output_type": "display_data"
    },
    {
     "name": "stdout",
     "output_type": "stream",
     "text": [
      "\n",
      "process industry Consumer Defensive\n"
     ]
    },
    {
     "data": {
      "application/vnd.jupyter.widget-view+json": {
       "model_id": "86f6a1668830443fa8c7b19df8f59142",
       "version_major": 2,
       "version_minor": 0
      },
      "text/plain": [
       "HBox(children=(FloatProgress(value=0.0, max=25.0), HTML(value='')))"
      ]
     },
     "metadata": {},
     "output_type": "display_data"
    },
    {
     "name": "stdout",
     "output_type": "stream",
     "text": [
      "\n",
      "process industry Energy\n"
     ]
    },
    {
     "data": {
      "application/vnd.jupyter.widget-view+json": {
       "model_id": "c10e6c5ac25648ca8d9bcd9eb9545ff2",
       "version_major": 2,
       "version_minor": 0
      },
      "text/plain": [
       "HBox(children=(FloatProgress(value=0.0, max=25.0), HTML(value='')))"
      ]
     },
     "metadata": {},
     "output_type": "display_data"
    },
    {
     "name": "stdout",
     "output_type": "stream",
     "text": [
      "\n",
      "process industry Financial Services\n"
     ]
    },
    {
     "data": {
      "application/vnd.jupyter.widget-view+json": {
       "model_id": "86d19331731b4b2898a9259045de22d6",
       "version_major": 2,
       "version_minor": 0
      },
      "text/plain": [
       "HBox(children=(FloatProgress(value=0.0, max=25.0), HTML(value='')))"
      ]
     },
     "metadata": {},
     "output_type": "display_data"
    },
    {
     "name": "stdout",
     "output_type": "stream",
     "text": [
      "\n",
      "process industry Healthcare\n"
     ]
    },
    {
     "data": {
      "application/vnd.jupyter.widget-view+json": {
       "model_id": "4b90852fdaa4441ba8782226b093baef",
       "version_major": 2,
       "version_minor": 0
      },
      "text/plain": [
       "HBox(children=(FloatProgress(value=0.0, max=25.0), HTML(value='')))"
      ]
     },
     "metadata": {},
     "output_type": "display_data"
    },
    {
     "name": "stdout",
     "output_type": "stream",
     "text": [
      "\n",
      "process industry Industrials\n"
     ]
    },
    {
     "data": {
      "application/vnd.jupyter.widget-view+json": {
       "model_id": "66f253182d2e4854a349cc3aa78f9afe",
       "version_major": 2,
       "version_minor": 0
      },
      "text/plain": [
       "HBox(children=(FloatProgress(value=0.0, max=25.0), HTML(value='')))"
      ]
     },
     "metadata": {},
     "output_type": "display_data"
    },
    {
     "name": "stdout",
     "output_type": "stream",
     "text": [
      "\n",
      "process industry Real Estate\n"
     ]
    },
    {
     "data": {
      "application/vnd.jupyter.widget-view+json": {
       "model_id": "dd8a3292e8b346a998d54c0c935edf47",
       "version_major": 2,
       "version_minor": 0
      },
      "text/plain": [
       "HBox(children=(FloatProgress(value=0.0, max=25.0), HTML(value='')))"
      ]
     },
     "metadata": {},
     "output_type": "display_data"
    },
    {
     "name": "stdout",
     "output_type": "stream",
     "text": [
      "\n",
      "process industry Technology\n"
     ]
    },
    {
     "data": {
      "application/vnd.jupyter.widget-view+json": {
       "model_id": "23650111bc16440d9e35f383a0ec129f",
       "version_major": 2,
       "version_minor": 0
      },
      "text/plain": [
       "HBox(children=(FloatProgress(value=0.0, max=25.0), HTML(value='')))"
      ]
     },
     "metadata": {},
     "output_type": "display_data"
    },
    {
     "name": "stdout",
     "output_type": "stream",
     "text": [
      "\n",
      "process industry Utilities\n"
     ]
    },
    {
     "data": {
      "application/vnd.jupyter.widget-view+json": {
       "model_id": "49b545d57eb44d21aa1a1b1b575a02b1",
       "version_major": 2,
       "version_minor": 0
      },
      "text/plain": [
       "HBox(children=(FloatProgress(value=0.0, max=25.0), HTML(value='')))"
      ]
     },
     "metadata": {},
     "output_type": "display_data"
    },
    {
     "name": "stdout",
     "output_type": "stream",
     "text": [
      "\n"
     ]
    }
   ],
   "source": [
    "for ind in industries_dict.keys():\n",
    "    symbols = get_symbol(industries_dict[ind])\n",
    "    print(f\"process industry {ind}\")\n",
    "    for sym in tqdm(symbols):\n",
    "        get_csv_file(ind, sym)"
   ]
  },
  {
   "cell_type": "code",
   "execution_count": null,
   "metadata": {},
   "outputs": [],
   "source": []
  }
 ],
 "metadata": {
  "kernelspec": {
   "display_name": "Python 3",
   "language": "python",
   "name": "python3"
  },
  "language_info": {
   "codemirror_mode": {
    "name": "ipython",
    "version": 3
   },
   "file_extension": ".py",
   "mimetype": "text/x-python",
   "name": "python",
   "nbconvert_exporter": "python",
   "pygments_lexer": "ipython3",
   "version": "3.6.10"
  }
 },
 "nbformat": 4,
 "nbformat_minor": 4
}
